{
 "cells": [
  {
   "cell_type": "markdown",
   "id": "9f7ea38a",
   "metadata": {},
   "source": [
    "# References\n",
    "* [Insertion Sort Using Javascript - medium.com](https://vishalrana9915.medium.com/insertion-sort-using-javascript-6132b42fab90)"
   ]
  },
  {
   "cell_type": "code",
   "execution_count": 1,
   "id": "4e0950f8",
   "metadata": {},
   "outputs": [],
   "source": [
    "let arr;"
   ]
  },
  {
   "cell_type": "code",
   "execution_count": 2,
   "id": "22dc0b03",
   "metadata": {},
   "outputs": [
    {
     "data": {
      "text/plain": [
       "[\n",
       "  6, 5, 3, 1,\n",
       "  8, 7, 2, 4\n",
       "]"
      ]
     },
     "execution_count": 2,
     "metadata": {},
     "output_type": "execute_result"
    }
   ],
   "source": [
    "arr = [6,5,3,1,8,7,2,4];"
   ]
  },
  {
   "cell_type": "code",
   "execution_count": 6,
   "id": "48da72b1",
   "metadata": {},
   "outputs": [
    {
     "ename": "SyntaxError",
     "evalue": "Identifier 'insertionSort' has already been declared",
     "output_type": "error",
     "traceback": [
      "evalmachine.<anonymous>:1",
      "let insertionSort = (array) => {",
      "^",
      "",
      "SyntaxError: Identifier 'insertionSort' has already been declared",
      "    at Script.runInThisContext (node:vm:121:12)",
      "    at Object.runInThisContext (node:vm:303:38)",
      "    at run ([eval]:1020:15)",
      "    at onRunRequest ([eval]:864:18)",
      "    at onMessage ([eval]:828:13)",
      "    at process.emit (node:events:518:28)",
      "    at emit (node:internal/child_process:951:14)",
      "    at process.processTicksAndRejections (node:internal/process/task_queues:83:21)"
     ]
    }
   ],
   "source": [
    "let insertionSort = (array) => {\n",
    "  for (let i = 1; i < array.length; i++) {\n",
    "    console.log('_______________________'); \n",
    "    let currentElement = array[i];\n",
    "    let lastIndex = i - 1;\n",
    "      console.log(`currentElement ${currentElement} lastIndex ${lastIndex}`); \n",
    "\n",
    "    while (lastIndex >= 0 && array[lastIndex] > currentElement) {\n",
    "      array[lastIndex + 1] = array[lastIndex];\n",
    "      lastIndex--;\n",
    "    }\n",
    "    array[lastIndex + 1] = currentElement;\n",
    "  }\n",
    "\n",
    "  return array;\n",
    "};"
   ]
  },
  {
   "cell_type": "code",
   "execution_count": 7,
   "id": "82fcec70",
   "metadata": {},
   "outputs": [
    {
     "data": {
      "text/plain": [
       "[\n",
       "  1, 2, 3, 4,\n",
       "  5, 6, 7, 8\n",
       "]"
      ]
     },
     "execution_count": 7,
     "metadata": {},
     "output_type": "execute_result"
    }
   ],
   "source": [
    "insertionSort(arr);"
   ]
  },
  {
   "cell_type": "code",
   "execution_count": null,
   "id": "6d7fcbf8",
   "metadata": {},
   "outputs": [],
   "source": []
  }
 ],
 "metadata": {
  "kernelspec": {
   "display_name": "JavaScript (Node.js)",
   "language": "javascript",
   "name": "javascript"
  },
  "language_info": {
   "file_extension": ".js",
   "mimetype": "application/javascript",
   "name": "javascript",
   "version": "20.11.1"
  }
 },
 "nbformat": 4,
 "nbformat_minor": 5
}
