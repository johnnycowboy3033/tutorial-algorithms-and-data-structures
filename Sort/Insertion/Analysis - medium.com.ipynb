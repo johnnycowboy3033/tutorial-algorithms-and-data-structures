{
 "cells": [
  {
   "cell_type": "markdown",
   "id": "7606eaa6",
   "metadata": {},
   "source": [
    "# References\n",
    "* [Insertion Sort Using Javascript - medium.com](https://vishalrana9915.medium.com/insertion-sort-using-javascript-6132b42fab90)"
   ]
  },
  {
   "cell_type": "code",
   "execution_count": 26,
   "id": "4ad4f1a3",
   "metadata": {},
   "outputs": [],
   "source": [
    "let arr;"
   ]
  },
  {
   "cell_type": "code",
   "execution_count": 27,
   "id": "01add793",
   "metadata": {},
   "outputs": [
    {
     "data": {
      "text/plain": [
       "[\n",
       "  6, 5, 3, 1,\n",
       "  8, 7, 2, 4\n",
       "]"
      ]
     },
     "execution_count": 27,
     "metadata": {},
     "output_type": "execute_result"
    }
   ],
   "source": [
    "arr = [6,5,3,1,8,7,2,4];"
   ]
  },
  {
   "cell_type": "code",
   "execution_count": 28,
   "id": "a72cd425",
   "metadata": {},
   "outputs": [],
   "source": [
    "let insertionSort = (array) => {\n",
    "  for (let i = 1; i < array.length; i++) {\n",
    "    console.log('_______________________'); \n",
    "    let currentElement = array[i];\n",
    "    let lastIndex = i - 1;\n",
    "      console.log(`Current Element Index ${i} Last Index ${i-1}`); \n",
    "\n",
    "    while (lastIndex >= 0 && array[lastIndex] > currentElement) {\n",
    "      array[lastIndex + 1] = array[lastIndex];\n",
    "      lastIndex--;\n",
    "    }\n",
    "    array[lastIndex + 1] = currentElement;\n",
    "  }\n",
    "\n",
    "  return array;\n",
    "};"
   ]
  },
  {
   "cell_type": "code",
   "execution_count": 29,
   "id": "35aebad4",
   "metadata": {},
   "outputs": [
    {
     "name": "stdout",
     "output_type": "stream",
     "text": [
      "_______________________\n",
      "Current Element Index 1 lastIndex 0\n",
      "_______________________\n",
      "Current Element Index 2 lastIndex 1\n",
      "_______________________\n",
      "Current Element Index 3 lastIndex 2\n",
      "_______________________\n",
      "Current Element Index 4 lastIndex 3\n",
      "_______________________\n",
      "Current Element Index 5 lastIndex 4\n",
      "_______________________\n",
      "Current Element Index 6 lastIndex 5\n",
      "_______________________\n",
      "Current Element Index 7 lastIndex 6\n"
     ]
    },
    {
     "data": {
      "text/plain": [
       "[\n",
       "  1, 2, 3, 4,\n",
       "  5, 6, 7, 8\n",
       "]"
      ]
     },
     "execution_count": 29,
     "metadata": {},
     "output_type": "execute_result"
    }
   ],
   "source": [
    "insertionSort(arr);"
   ]
  },
  {
   "cell_type": "code",
   "execution_count": null,
   "id": "9101a72c",
   "metadata": {},
   "outputs": [],
   "source": []
  }
 ],
 "metadata": {
  "kernelspec": {
   "display_name": "JavaScript (Node.js)",
   "language": "javascript",
   "name": "javascript"
  },
  "language_info": {
   "file_extension": ".js",
   "mimetype": "application/javascript",
   "name": "javascript",
   "version": "20.11.1"
  }
 },
 "nbformat": 4,
 "nbformat_minor": 5
}
