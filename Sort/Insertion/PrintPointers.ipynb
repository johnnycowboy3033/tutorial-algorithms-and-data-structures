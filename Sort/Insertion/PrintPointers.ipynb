{
 "cells": [
  {
   "cell_type": "code",
   "execution_count": 2,
   "id": "8f265a1d",
   "metadata": {},
   "outputs": [],
   "source": [
    "let arr;"
   ]
  },
  {
   "cell_type": "code",
   "execution_count": 3,
   "id": "97380951",
   "metadata": {},
   "outputs": [
    {
     "data": {
      "text/plain": [
       "[\n",
       "  6, 5, 3, 1,\n",
       "  8, 7, 2, 4\n",
       "]"
      ]
     },
     "execution_count": 3,
     "metadata": {},
     "output_type": "execute_result"
    }
   ],
   "source": [
    "arr = [6,5,3,1,8,7,2,4];"
   ]
  },
  {
   "cell_type": "code",
   "execution_count": 10,
   "id": "3c4efb7c",
   "metadata": {},
   "outputs": [],
   "source": [
    "function printPointers(baseArr,currentElementIndex,lastIndex){\n",
    "    console.log('[index] = value');\n",
    "    \n",
    "        for( let index = 0; index < baseArr.length; index++){\n",
    "        \n",
    "        let label = \"\";\n",
    "        \n",
    "        if(currentElementIndex == index || lastIndex == index){\n",
    "            label = label + \"<---- \";\n",
    "            \n",
    "            if(currentElementIndex == index){\n",
    "                label = label +\" Current Element\";\n",
    "            }\n",
    "            \n",
    "            if(lastIndex == index){\n",
    "                label = label +\" Last Index\";\n",
    "            }\n",
    "            \n",
    "        }\n",
    "        \n",
    "        \n",
    "        \n",
    "        console.log(`[ ${index} ] = ${baseArr[index]}  ${label} \\n`)\n",
    "    }\n",
    "}"
   ]
  },
  {
   "cell_type": "code",
   "execution_count": 11,
   "id": "f0256bda",
   "metadata": {},
   "outputs": [
    {
     "name": "stdout",
     "output_type": "stream",
     "text": [
      "[index] = value\n",
      "[ 0 ] = 6  <----  Last Index \n",
      "\n",
      "[ 1 ] = 5  <----  Current Element \n",
      "\n",
      "[ 2 ] = 3   \n",
      "\n",
      "[ 3 ] = 1   \n",
      "\n",
      "[ 4 ] = 8   \n",
      "\n",
      "[ 5 ] = 7   \n",
      "\n",
      "[ 6 ] = 2   \n",
      "\n",
      "[ 7 ] = 4   \n",
      "\n"
     ]
    }
   ],
   "source": [
    "printPointers(arr,1,0);"
   ]
  },
  {
   "cell_type": "code",
   "execution_count": 12,
   "id": "ea5a08b4",
   "metadata": {},
   "outputs": [
    {
     "name": "stdout",
     "output_type": "stream",
     "text": [
      "[index] = value\n",
      "[ 0 ] = 6   \n",
      "\n",
      "[ 1 ] = 5  <----  Last Index \n",
      "\n",
      "[ 2 ] = 3  <----  Current Element \n",
      "\n",
      "[ 3 ] = 1   \n",
      "\n",
      "[ 4 ] = 8   \n",
      "\n",
      "[ 5 ] = 7   \n",
      "\n",
      "[ 6 ] = 2   \n",
      "\n",
      "[ 7 ] = 4   \n",
      "\n"
     ]
    }
   ],
   "source": [
    "printPointers(arr,2,1);"
   ]
  },
  {
   "cell_type": "code",
   "execution_count": 13,
   "id": "22c07764",
   "metadata": {},
   "outputs": [
    {
     "name": "stdout",
     "output_type": "stream",
     "text": [
      "[index] = value\n",
      "[ 0 ] = 6   \n",
      "\n",
      "[ 1 ] = 5   \n",
      "\n",
      "[ 2 ] = 3  <----  Last Index \n",
      "\n",
      "[ 3 ] = 1  <----  Current Element \n",
      "\n",
      "[ 4 ] = 8   \n",
      "\n",
      "[ 5 ] = 7   \n",
      "\n",
      "[ 6 ] = 2   \n",
      "\n",
      "[ 7 ] = 4   \n",
      "\n"
     ]
    }
   ],
   "source": [
    "printPointers(arr,3,2);"
   ]
  },
  {
   "cell_type": "code",
   "execution_count": null,
   "id": "01b91d3b",
   "metadata": {},
   "outputs": [],
   "source": []
  }
 ],
 "metadata": {
  "kernelspec": {
   "display_name": "JavaScript (Node.js)",
   "language": "javascript",
   "name": "javascript"
  },
  "language_info": {
   "file_extension": ".js",
   "mimetype": "application/javascript",
   "name": "javascript",
   "version": "20.11.1"
  }
 },
 "nbformat": 4,
 "nbformat_minor": 5
}
