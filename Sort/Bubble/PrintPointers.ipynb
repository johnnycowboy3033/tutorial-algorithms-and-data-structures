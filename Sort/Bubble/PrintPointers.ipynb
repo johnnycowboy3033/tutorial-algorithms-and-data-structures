{
 "cells": [
  {
   "cell_type": "code",
   "execution_count": 23,
   "id": "988e0187",
   "metadata": {},
   "outputs": [],
   "source": [
    "let base_arr;\n",
    "let base_index;\n",
    "let base_offset;"
   ]
  },
  {
   "cell_type": "code",
   "execution_count": 24,
   "id": "aef59cfc",
   "metadata": {},
   "outputs": [],
   "source": [
    "function printPointers(baseArr,mainIndex,offset){\n",
    "    console.log('[index] = value');\n",
    "    \n",
    "        for( let index = 0; index < baseArr.length; index++){\n",
    "        \n",
    "        let label = \"\";\n",
    "        \n",
    "        if(mainIndex == index || offset == index){\n",
    "            label = label + \"<---- \";\n",
    "            \n",
    "            if(mainIndex == index){\n",
    "                label = label +\" BaseIndex\";\n",
    "            }\n",
    "            \n",
    "            if(offset == index){\n",
    "                label = label +\" PlusOne\";\n",
    "            }\n",
    "            \n",
    "        }\n",
    "        \n",
    "        \n",
    "        \n",
    "        console.log(`[ ${index} ] = ${baseArr[index]}  ${label} \\n`)\n",
    "    }\n",
    "}"
   ]
  },
  {
   "cell_type": "code",
   "execution_count": 25,
   "id": "a62696bc",
   "metadata": {},
   "outputs": [
    {
     "data": {
      "text/plain": [
       "6"
      ]
     },
     "execution_count": 25,
     "metadata": {},
     "output_type": "execute_result"
    }
   ],
   "source": [
    "base_arr = new Array( 2,0,1,5,3,6,4);\n",
    "base_index = 5;\n",
    "base_offset = base_index +1;"
   ]
  },
  {
   "cell_type": "code",
   "execution_count": 27,
   "id": "deea1890",
   "metadata": {},
   "outputs": [
    {
     "name": "stdout",
     "output_type": "stream",
     "text": [
      "[index] = value\n",
      "[ 0 ] = 2   \n",
      "\n",
      "[ 1 ] = 0   \n",
      "\n",
      "[ 2 ] = 1   \n",
      "\n",
      "[ 3 ] = 5   \n",
      "\n",
      "[ 4 ] = 3   \n",
      "\n",
      "[ 5 ] = 6  <----  BaseIndex \n",
      "\n",
      "[ 6 ] = 4  <----  PlusOne \n",
      "\n"
     ]
    }
   ],
   "source": [
    "printPointers(base_arr,base_index,base_offset);"
   ]
  }
 ],
 "metadata": {
  "kernelspec": {
   "display_name": "JavaScript (Node.js)",
   "language": "javascript",
   "name": "javascript"
  },
  "language_info": {
   "file_extension": ".js",
   "mimetype": "application/javascript",
   "name": "javascript",
   "version": "20.11.1"
  }
 },
 "nbformat": 4,
 "nbformat_minor": 5
}
