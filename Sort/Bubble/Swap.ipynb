{
 "cells": [
  {
   "cell_type": "code",
   "execution_count": 20,
   "id": "d6930322",
   "metadata": {},
   "outputs": [],
   "source": [
    "let base_arr;\n",
    "let base_index;"
   ]
  },
  {
   "cell_type": "code",
   "execution_count": 21,
   "id": "5c5cdb92",
   "metadata": {},
   "outputs": [],
   "source": [
    "function printPointers(baseArr,baseIndex){\n",
    "    console.log('[index] = value');\n",
    "    \n",
    "        for( let index = 0; index < baseArr.length; index++){\n",
    "        \n",
    "        let label = \"\";\n",
    "        \n",
    "        if(baseIndex == index || baseIndex +1 == index){\n",
    "            label = label + \"<---- \";\n",
    "            \n",
    "            if(baseIndex == index){\n",
    "                label = label +\" Base Index\";\n",
    "            }\n",
    "            \n",
    "            if(baseIndex + 1 == index){\n",
    "                label = label +\" Base Index Plus One\";\n",
    "            }\n",
    "            \n",
    "        }\n",
    "        \n",
    "        \n",
    "        \n",
    "        console.log(`[ ${index} ] = ${baseArr[index]}  ${label} \\n`)\n",
    "    }\n",
    "}"
   ]
  },
  {
   "cell_type": "code",
   "execution_count": 22,
   "id": "b09613b3",
   "metadata": {},
   "outputs": [],
   "source": [
    "function swap(arr,index){\n",
    "    temp = arr[index];\n",
    "    arr[index] = arr[index + 1];\n",
    "    arr[index + 1] = temp;\n",
    "}"
   ]
  },
  {
   "cell_type": "code",
   "execution_count": 23,
   "id": "3eea34c9",
   "metadata": {},
   "outputs": [
    {
     "data": {
      "text/plain": [
       "3"
      ]
     },
     "execution_count": 23,
     "metadata": {},
     "output_type": "execute_result"
    }
   ],
   "source": [
    "base_arr = new Array( 2,0,1,5,3,6,4); \n",
    "base_index = 3;"
   ]
  },
  {
   "cell_type": "code",
   "execution_count": 27,
   "id": "19a853d0",
   "metadata": {},
   "outputs": [
    {
     "name": "stdout",
     "output_type": "stream",
     "text": [
      "[index] = value\n",
      "[ 0 ] = 2   \n",
      "\n",
      "[ 1 ] = 0   \n",
      "\n",
      "[ 2 ] = 1   \n",
      "\n",
      "[ 3 ] = 3  <----  Base Index \n",
      "\n",
      "[ 4 ] = 5  <----  Base Index Plus One \n",
      "\n",
      "[ 5 ] = 6   \n",
      "\n",
      "[ 6 ] = 4   \n",
      "\n"
     ]
    }
   ],
   "source": [
    "printPointers(base_arr,base_index);"
   ]
  },
  {
   "cell_type": "code",
   "execution_count": 28,
   "id": "988dcaba",
   "metadata": {},
   "outputs": [],
   "source": [
    "swap(base_arr,base_index);"
   ]
  },
  {
   "cell_type": "code",
   "execution_count": 29,
   "id": "a2a01e16",
   "metadata": {},
   "outputs": [
    {
     "name": "stdout",
     "output_type": "stream",
     "text": [
      "[index] = value\n",
      "[ 0 ] = 2   \n",
      "\n",
      "[ 1 ] = 0   \n",
      "\n",
      "[ 2 ] = 1   \n",
      "\n",
      "[ 3 ] = 5  <----  Base Index \n",
      "\n",
      "[ 4 ] = 3  <----  Base Index Plus One \n",
      "\n",
      "[ 5 ] = 6   \n",
      "\n",
      "[ 6 ] = 4   \n",
      "\n"
     ]
    }
   ],
   "source": [
    "printPointers(base_arr,base_index);"
   ]
  }
 ],
 "metadata": {
  "kernelspec": {
   "display_name": "JavaScript (Node.js)",
   "language": "javascript",
   "name": "javascript"
  },
  "language_info": {
   "file_extension": ".js",
   "mimetype": "application/javascript",
   "name": "javascript",
   "version": "20.11.1"
  }
 },
 "nbformat": 4,
 "nbformat_minor": 5
}
