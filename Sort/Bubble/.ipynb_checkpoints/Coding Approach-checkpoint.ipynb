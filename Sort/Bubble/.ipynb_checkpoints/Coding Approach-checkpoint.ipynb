{
 "cells": [
  {
   "cell_type": "markdown",
   "id": "2d7b09fa",
   "metadata": {},
   "source": [
    "# Array Index Order"
   ]
  },
  {
   "cell_type": "code",
   "execution_count": 1,
   "id": "e27339b4",
   "metadata": {},
   "outputs": [],
   "source": [
    "let arr;"
   ]
  },
  {
   "cell_type": "code",
   "execution_count": 2,
   "id": "1ad2f4b8",
   "metadata": {},
   "outputs": [
    {
     "data": {
      "text/plain": [
       "[ 4, 3, 2, 1, 0 ]"
      ]
     },
     "execution_count": 2,
     "metadata": {},
     "output_type": "execute_result"
    }
   ],
   "source": [
    "arr = [4, 3, 2, 1, 0]"
   ]
  },
  {
   "cell_type": "markdown",
   "id": "6c95c1f4",
   "metadata": {},
   "source": [
    "When the main index and the offset index are the same, this means the two indexes point to the same element in the array, so it makes no sense to swap the same element. For example, Main Index [0] and Offset Index [0] is the first element in the array. We can eliminate these indexes from our two for-loops. \n",
    "\n",
    "After the outer loop has completed we know that value in the element does not need to be check because elemnt is in the correct place. For Example when Main Index Zero loop completes we know element array[0] is in the right place in the array. "
   ]
  },
  {
   "cell_type": "code",
   "execution_count": 21,
   "id": "3c3f6377",
   "metadata": {},
   "outputs": [],
   "source": [
    "function indexOrderBrutForce(_arr){\n",
    "    \n",
    "    for(var mainIndex = 0; mainIndex < _arr.length - 1; mainIndex++){\n",
    "        for(var offsetIndex = 0 ; offsetIndex < arr.length; offsetIndex++){\n",
    "            console.log( ` Main Index [${mainIndex}] Offset Index [${offsetIndex}] `);\n",
    "        }\n",
    "    \n",
    "    }\n",
    "}"
   ]
  },
  {
   "cell_type": "code",
   "execution_count": 22,
   "id": "b6c21bb3",
   "metadata": {},
   "outputs": [
    {
     "name": "stdout",
     "output_type": "stream",
     "text": [
      " Main Index [0] Offset Index [0] \n",
      " Main Index [0] Offset Index [1] \n",
      " Main Index [0] Offset Index [2] \n",
      " Main Index [0] Offset Index [3] \n",
      " Main Index [0] Offset Index [4] \n",
      " Main Index [1] Offset Index [0] \n",
      " Main Index [1] Offset Index [1] \n",
      " Main Index [1] Offset Index [2] \n",
      " Main Index [1] Offset Index [3] \n",
      " Main Index [1] Offset Index [4] \n",
      " Main Index [2] Offset Index [0] \n",
      " Main Index [2] Offset Index [1] \n",
      " Main Index [2] Offset Index [2] \n",
      " Main Index [2] Offset Index [3] \n",
      " Main Index [2] Offset Index [4] \n",
      " Main Index [3] Offset Index [0] \n",
      " Main Index [3] Offset Index [1] \n",
      " Main Index [3] Offset Index [2] \n",
      " Main Index [3] Offset Index [3] \n",
      " Main Index [3] Offset Index [4] \n"
     ]
    }
   ],
   "source": [
    "indexOrderBrutForce(arr);"
   ]
  },
  {
   "cell_type": "markdown",
   "id": "f1038282",
   "metadata": {},
   "source": [
    "# Optimal Outer and Inner Loop Iteration"
   ]
  },
  {
   "cell_type": "code",
   "execution_count": 23,
   "id": "52b7ba75",
   "metadata": {},
   "outputs": [],
   "source": [
    "function indexOrder(_arr){\n",
    "    \n",
    "    for(var mainIndex = 0; mainIndex < _arr.length - 1; mainIndex++){\n",
    "        for(var offsetIndex = 1 + mainIndex; offsetIndex < arr.length; offsetIndex++){\n",
    "            console.log( ` Main Index [${mainIndex}] Offset Index [${offsetIndex}] `);\n",
    "        }\n",
    "    \n",
    "    }\n",
    "}"
   ]
  },
  {
   "cell_type": "code",
   "execution_count": 24,
   "id": "4c0df2ee",
   "metadata": {},
   "outputs": [
    {
     "name": "stdout",
     "output_type": "stream",
     "text": [
      " Main Index [0] Offset Index [1] \n",
      " Main Index [0] Offset Index [2] \n",
      " Main Index [0] Offset Index [3] \n",
      " Main Index [0] Offset Index [4] \n",
      " Main Index [1] Offset Index [2] \n",
      " Main Index [1] Offset Index [3] \n",
      " Main Index [1] Offset Index [4] \n",
      " Main Index [2] Offset Index [3] \n",
      " Main Index [2] Offset Index [4] \n",
      " Main Index [3] Offset Index [4] \n"
     ]
    }
   ],
   "source": [
    "indexOrder(arr);"
   ]
  }
 ],
 "metadata": {
  "kernelspec": {
   "display_name": "JavaScript (Node.js)",
   "language": "javascript",
   "name": "javascript"
  },
  "language_info": {
   "file_extension": ".js",
   "mimetype": "application/javascript",
   "name": "javascript",
   "version": "20.11.1"
  }
 },
 "nbformat": 4,
 "nbformat_minor": 5
}
