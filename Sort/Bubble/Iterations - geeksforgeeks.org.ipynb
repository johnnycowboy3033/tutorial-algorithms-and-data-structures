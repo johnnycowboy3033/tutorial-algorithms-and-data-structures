{
 "cells": [
  {
   "cell_type": "markdown",
   "id": "f48d940a",
   "metadata": {},
   "source": [
    "# References\n",
    "* [Bubble Sort – Data Structure and Algorithm Tutorials - geeksforgeeks.org](https://www.geeksforgeeks.org/bubble-sort/)"
   ]
  },
  {
   "cell_type": "code",
   "execution_count": 34,
   "id": "1f1d2e62",
   "metadata": {},
   "outputs": [],
   "source": [
    "let arr;\n",
    "let i;\n",
    "let j;"
   ]
  },
  {
   "cell_type": "code",
   "execution_count": 35,
   "id": "0668c17c",
   "metadata": {},
   "outputs": [],
   "source": [
    "function printPointers(baseArr,baseIndex,plusOne){\n",
    "    console.log('[index] = value');\n",
    "    \n",
    "        for( let index = 0; index < baseArr.length; index++){\n",
    "        \n",
    "        let label = \"\";\n",
    "        \n",
    "        if(baseIndex == index || plusOne == index){\n",
    "            label = label + \"<---- \";\n",
    "            \n",
    "            if(baseIndex == index){\n",
    "                label = label +\" BaseIndex\";\n",
    "            }\n",
    "            \n",
    "            if(plusOne == index){\n",
    "                label = label +\" PlusOne\";\n",
    "            }\n",
    "            \n",
    "        }\n",
    "        \n",
    "        \n",
    "        \n",
    "        console.log(`[ ${index} ] = ${baseArr[index]}  ${label} \\n`)\n",
    "    }\n",
    "}"
   ]
  },
  {
   "cell_type": "code",
   "execution_count": 36,
   "id": "33609819",
   "metadata": {},
   "outputs": [],
   "source": [
    "function iterations(){\n",
    "    for (i = 0; i < arr.length -1; i++) \n",
    "    {\n",
    "        console.log('_____________________________');\n",
    "        for (j = 0; j < arr.length - i -1; j++) \n",
    "        {\n",
    "            \n",
    "            printPointers(arr,i,j)\n",
    "        }\n",
    " \n",
    "    }\n",
    "}"
   ]
  },
  {
   "cell_type": "code",
   "execution_count": 37,
   "id": "3a8902dd",
   "metadata": {},
   "outputs": [
    {
     "data": {
      "text/plain": [
       "[ 2, 0, 1 ]"
      ]
     },
     "execution_count": 37,
     "metadata": {},
     "output_type": "execute_result"
    }
   ],
   "source": [
    "arr = new Array( 2,0,1);"
   ]
  },
  {
   "cell_type": "code",
   "execution_count": 38,
   "id": "cea85fb5",
   "metadata": {},
   "outputs": [
    {
     "name": "stdout",
     "output_type": "stream",
     "text": [
      "_____________________________\n",
      "[index] = value\n",
      "[ 0 ] = 2  <----  BaseIndex PlusOne \n",
      "\n",
      "[ 1 ] = 0   \n",
      "\n",
      "[ 2 ] = 1   \n",
      "\n",
      "[index] = value\n",
      "[ 0 ] = 2  <----  BaseIndex \n",
      "\n",
      "[ 1 ] = 0  <----  PlusOne \n",
      "\n",
      "[ 2 ] = 1   \n",
      "\n",
      "_____________________________\n",
      "[index] = value\n",
      "[ 0 ] = 2  <----  PlusOne \n",
      "\n",
      "[ 1 ] = 0  <----  BaseIndex \n",
      "\n",
      "[ 2 ] = 1   \n",
      "\n"
     ]
    }
   ],
   "source": [
    "iterations();"
   ]
  }
 ],
 "metadata": {
  "kernelspec": {
   "display_name": "JavaScript (Node.js)",
   "language": "javascript",
   "name": "javascript"
  },
  "language_info": {
   "file_extension": ".js",
   "mimetype": "application/javascript",
   "name": "javascript",
   "version": "20.11.1"
  }
 },
 "nbformat": 4,
 "nbformat_minor": 5
}
