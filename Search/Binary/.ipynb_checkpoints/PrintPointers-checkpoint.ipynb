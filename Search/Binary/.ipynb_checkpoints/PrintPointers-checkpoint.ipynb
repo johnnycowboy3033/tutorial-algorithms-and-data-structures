{
 "cells": [
  {
   "cell_type": "code",
   "execution_count": 1,
   "id": "d1ded1ad",
   "metadata": {},
   "outputs": [],
   "source": [
    "let element = new Array( 0,1,2,3,4,5,6);"
   ]
  },
  {
   "cell_type": "code",
   "execution_count": 7,
   "id": "e8d2e7e7",
   "metadata": {},
   "outputs": [],
   "source": [
    "function printPointers(head,middle,tail){\n",
    "    \n",
    "    console.log('[index] = value');\n",
    "    \n",
    "    for( let index = 0; index < element.length; index++){\n",
    "        \n",
    "        let label = \"\";\n",
    "        \n",
    "        if(head == index || middle == index || tail == index){\n",
    "            label = label + \"<---- \";\n",
    "            \n",
    "            if(head == index){\n",
    "                label = label +\" Head\";\n",
    "            }\n",
    "            \n",
    "            if(middle == index){\n",
    "                label = label +\" Middle\";\n",
    "            }\n",
    "            \n",
    "            if(tail == index){\n",
    "                label = label +\" Tail\";\n",
    "            }\n",
    "        }\n",
    "        \n",
    "        \n",
    "        \n",
    "        console.log(`[ ${index} ] = ${element[index]}  ${label} \\n`)\n",
    "    }\n",
    "    \n",
    "}"
   ]
  },
  {
   "cell_type": "code",
   "execution_count": 8,
   "id": "103485ec",
   "metadata": {},
   "outputs": [
    {
     "name": "stdout",
     "output_type": "stream",
     "text": [
      "[index] = value\n",
      "[ 0 ] = 0  <----  Head Middle \n",
      "\n",
      "[ 1 ] = 1   \n",
      "\n",
      "[ 2 ] = 2   \n",
      "\n",
      "[ 3 ] = 3   \n",
      "\n",
      "[ 4 ] = 4   \n",
      "\n",
      "[ 5 ] = 5   \n",
      "\n",
      "[ 6 ] = 6  <----  Tail \n",
      "\n"
     ]
    }
   ],
   "source": [
    "printPointers(0,0,6);"
   ]
  },
  {
   "cell_type": "code",
   "execution_count": 9,
   "id": "359a9767",
   "metadata": {},
   "outputs": [
    {
     "name": "stdout",
     "output_type": "stream",
     "text": [
      "[index] = value\n",
      "[ 0 ] = 0  <----  Head \n",
      "\n",
      "[ 1 ] = 1  <----  Middle \n",
      "\n",
      "[ 2 ] = 2   \n",
      "\n",
      "[ 3 ] = 3   \n",
      "\n",
      "[ 4 ] = 4   \n",
      "\n",
      "[ 5 ] = 5   \n",
      "\n",
      "[ 6 ] = 6  <----  Tail \n",
      "\n"
     ]
    }
   ],
   "source": [
    "printPointers(0,1,6);"
   ]
  },
  {
   "cell_type": "code",
   "execution_count": 10,
   "id": "b7695d35",
   "metadata": {},
   "outputs": [
    {
     "name": "stdout",
     "output_type": "stream",
     "text": [
      "[index] = value\n",
      "[ 0 ] = 0  <----  Head \n",
      "\n",
      "[ 1 ] = 1   \n",
      "\n",
      "[ 2 ] = 2   \n",
      "\n",
      "[ 3 ] = 3  <----  Middle \n",
      "\n",
      "[ 4 ] = 4   \n",
      "\n",
      "[ 5 ] = 5   \n",
      "\n",
      "[ 6 ] = 6  <----  Tail \n",
      "\n"
     ]
    }
   ],
   "source": [
    "printPointers(0,3,6);"
   ]
  },
  {
   "cell_type": "code",
   "execution_count": 11,
   "id": "f4dba81e",
   "metadata": {},
   "outputs": [
    {
     "name": "stdout",
     "output_type": "stream",
     "text": [
      "[index] = value\n",
      "[ 0 ] = 0   \n",
      "\n",
      "[ 1 ] = 1   \n",
      "\n",
      "[ 2 ] = 2   \n",
      "\n",
      "[ 3 ] = 3   \n",
      "\n",
      "[ 4 ] = 4   \n",
      "\n",
      "[ 5 ] = 5   \n",
      "\n",
      "[ 6 ] = 6  <----  Head Middle Tail \n",
      "\n"
     ]
    }
   ],
   "source": [
    "printPointers(6,6,6);"
   ]
  }
 ],
 "metadata": {
  "kernelspec": {
   "display_name": "JavaScript (Node.js)",
   "language": "javascript",
   "name": "javascript"
  },
  "language_info": {
   "file_extension": ".js",
   "mimetype": "application/javascript",
   "name": "javascript",
   "version": "18.18.2"
  }
 },
 "nbformat": 4,
 "nbformat_minor": 5
}
