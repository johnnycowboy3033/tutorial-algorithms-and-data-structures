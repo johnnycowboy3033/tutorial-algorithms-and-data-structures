{
 "cells": [
  {
   "cell_type": "markdown",
   "id": "9701f292",
   "metadata": {},
   "source": [
    "# Library File"
   ]
  },
  {
   "cell_type": "code",
   "execution_count": 2,
   "id": "56a9deb1",
   "metadata": {},
   "outputs": [],
   "source": [
    "function printPointers(head,middle,tail,element){\n",
    "    \n",
    "    console.log('_____________________________________________________');\n",
    "    \n",
    "    console.log('[index] = value');\n",
    "    \n",
    "    for( let index = 0; index < element.length; index++){\n",
    "        \n",
    "        let label = \"\";\n",
    "        \n",
    "        if(head == index || middle == index || tail == index){\n",
    "            label = label + \"<---- \";\n",
    "            \n",
    "            if(head == index){\n",
    "                label = label +\" Head\";\n",
    "            }\n",
    "            \n",
    "            if(middle == index){\n",
    "                label = label +\" Middle\";\n",
    "            }\n",
    "            \n",
    "            if(tail == index){\n",
    "                label = label +\" Tail\";\n",
    "            }\n",
    "        }\n",
    "        \n",
    "        \n",
    "        \n",
    "        console.log(`[ ${index} ] = ${element[index]}  ${label} \\n`)\n",
    "    }\n",
    "    \n",
    "}"
   ]
  },
  {
   "cell_type": "markdown",
   "id": "7f94bec6",
   "metadata": {},
   "source": [
    "# Analysis"
   ]
  },
  {
   "cell_type": "code",
   "execution_count": 3,
   "id": "6435f408",
   "metadata": {},
   "outputs": [],
   "source": [
    "// A iterative binary search function. It returns\n",
    "// location of x in given array arr[l..r] is present,\n",
    "// otherwise -1\n",
    " \n",
    "function binarySearch(arr, x)\n",
    "{    \n",
    "    let h = 0;\n",
    "    let t = arr.length - 1;\n",
    "    let mid;\n",
    "    while (t >= h) {\n",
    "         mid = h + Math.floor((t - h) / 2);\n",
    "        \n",
    "        printPointers(h,mid,t,arr);\n",
    "        \n",
    "        // If the element is present at the middle\n",
    "        // itself\n",
    "        if (arr[mid] == x)\n",
    "            return mid;\n",
    "  \n",
    "        // If element is smaller than mid, then\n",
    "        // it can only be present in left subarray\n",
    "        if (arr[mid] > x)\n",
    "            t = mid - 1;\n",
    "             \n",
    "        // Else the element can only be present\n",
    "        // in right subarray\n",
    "        else\n",
    "            h = mid + 1;\n",
    "    }\n",
    "  \n",
    "    // We reach here when element is not\n",
    "    // present in array\n",
    "    return -1;\n",
    "}"
   ]
  },
  {
   "cell_type": "markdown",
   "id": "7987b582",
   "metadata": {},
   "source": [
    "Notice Head Pointer is NOT to Middle Pointer but **Middle Pointer plus one**"
   ]
  },
  {
   "cell_type": "markdown",
   "id": "2a521159",
   "metadata": {},
   "source": [
    " # Boundary Condition (Minimum Number)"
   ]
  },
  {
   "cell_type": "code",
   "execution_count": 4,
   "id": "fa1d988b",
   "metadata": {},
   "outputs": [
    {
     "name": "stdout",
     "output_type": "stream",
     "text": [
      "_____________________________________________________\n",
      "[index] = value\n",
      "[ 0 ] = 0  <----  Head \n",
      "\n",
      "[ 1 ] = 10   \n",
      "\n",
      "[ 2 ] = 20   \n",
      "\n",
      "[ 3 ] = 30  <----  Middle \n",
      "\n",
      "[ 4 ] = 40   \n",
      "\n",
      "[ 5 ] = 50   \n",
      "\n",
      "[ 6 ] = 60  <----  Tail \n",
      "\n",
      "_____________________________________________________\n",
      "[index] = value\n",
      "[ 0 ] = 0  <----  Head \n",
      "\n",
      "[ 1 ] = 10  <----  Middle \n",
      "\n",
      "[ 2 ] = 20  <----  Tail \n",
      "\n",
      "[ 3 ] = 30   \n",
      "\n",
      "[ 4 ] = 40   \n",
      "\n",
      "[ 5 ] = 50   \n",
      "\n",
      "[ 6 ] = 60   \n",
      "\n",
      "_____________________________________________________\n",
      "[index] = value\n",
      "[ 0 ] = 0  <----  Head Middle Tail \n",
      "\n",
      "[ 1 ] = 10   \n",
      "\n",
      "[ 2 ] = 20   \n",
      "\n",
      "[ 3 ] = 30   \n",
      "\n",
      "[ 4 ] = 40   \n",
      "\n",
      "[ 5 ] = 50   \n",
      "\n",
      "[ 6 ] = 60   \n",
      "\n"
     ]
    },
    {
     "data": {
      "text/plain": [
       "0"
      ]
     },
     "execution_count": 4,
     "metadata": {},
     "output_type": "execute_result"
    }
   ],
   "source": [
    "binarySearch([0,10,20,30,40,50,60], 0);"
   ]
  },
  {
   "cell_type": "markdown",
   "id": "e1d3e130",
   "metadata": {},
   "source": [
    " # Boundary Condition (Small Number)"
   ]
  },
  {
   "cell_type": "code",
   "execution_count": 5,
   "id": "f5bb77d7",
   "metadata": {},
   "outputs": [
    {
     "name": "stdout",
     "output_type": "stream",
     "text": [
      "_____________________________________________________\n",
      "[index] = value\n",
      "[ 0 ] = 0  <----  Head \n",
      "\n",
      "[ 1 ] = 10   \n",
      "\n",
      "[ 2 ] = 20   \n",
      "\n",
      "[ 3 ] = 30  <----  Middle \n",
      "\n",
      "[ 4 ] = 40   \n",
      "\n",
      "[ 5 ] = 50   \n",
      "\n",
      "[ 6 ] = 60  <----  Tail \n",
      "\n",
      "_____________________________________________________\n",
      "[index] = value\n",
      "[ 0 ] = 0  <----  Head \n",
      "\n",
      "[ 1 ] = 10  <----  Middle \n",
      "\n",
      "[ 2 ] = 20  <----  Tail \n",
      "\n",
      "[ 3 ] = 30   \n",
      "\n",
      "[ 4 ] = 40   \n",
      "\n",
      "[ 5 ] = 50   \n",
      "\n",
      "[ 6 ] = 60   \n",
      "\n",
      "_____________________________________________________\n",
      "[index] = value\n",
      "[ 0 ] = 0   \n",
      "\n",
      "[ 1 ] = 10   \n",
      "\n",
      "[ 2 ] = 20  <----  Head Middle Tail \n",
      "\n",
      "[ 3 ] = 30   \n",
      "\n",
      "[ 4 ] = 40   \n",
      "\n",
      "[ 5 ] = 50   \n",
      "\n",
      "[ 6 ] = 60   \n",
      "\n"
     ]
    },
    {
     "data": {
      "text/plain": [
       "2"
      ]
     },
     "execution_count": 5,
     "metadata": {},
     "output_type": "execute_result"
    }
   ],
   "source": [
    "binarySearch([0,10,20,30,40,50,60], 20);"
   ]
  },
  {
   "cell_type": "markdown",
   "id": "f7057568",
   "metadata": {},
   "source": [
    " # Boundary Condition (Larger Number)"
   ]
  },
  {
   "cell_type": "code",
   "execution_count": 6,
   "id": "6ef41a05",
   "metadata": {},
   "outputs": [
    {
     "name": "stdout",
     "output_type": "stream",
     "text": [
      "_____________________________________________________\n",
      "[index] = value\n",
      "[ 0 ] = 0  <----  Head \n",
      "\n",
      "[ 1 ] = 10   \n",
      "\n",
      "[ 2 ] = 20   \n",
      "\n",
      "[ 3 ] = 30  <----  Middle \n",
      "\n",
      "[ 4 ] = 40   \n",
      "\n",
      "[ 5 ] = 50   \n",
      "\n",
      "[ 6 ] = 60  <----  Tail \n",
      "\n",
      "_____________________________________________________\n",
      "[index] = value\n",
      "[ 0 ] = 0   \n",
      "\n",
      "[ 1 ] = 10   \n",
      "\n",
      "[ 2 ] = 20   \n",
      "\n",
      "[ 3 ] = 30   \n",
      "\n",
      "[ 4 ] = 40  <----  Head \n",
      "\n",
      "[ 5 ] = 50  <----  Middle \n",
      "\n",
      "[ 6 ] = 60  <----  Tail \n",
      "\n"
     ]
    },
    {
     "data": {
      "text/plain": [
       "5"
      ]
     },
     "execution_count": 6,
     "metadata": {},
     "output_type": "execute_result"
    }
   ],
   "source": [
    "binarySearch([0,10,20,30,40,50,60], 50);"
   ]
  },
  {
   "cell_type": "markdown",
   "id": "dbbcdaac",
   "metadata": {},
   "source": [
    "# Boundary Condition (Maximum Number)"
   ]
  },
  {
   "cell_type": "code",
   "execution_count": 7,
   "id": "bb7a2c64",
   "metadata": {},
   "outputs": [
    {
     "name": "stdout",
     "output_type": "stream",
     "text": [
      "_____________________________________________________\n",
      "[index] = value\n",
      "[ 0 ] = 0  <----  Head \n",
      "\n",
      "[ 1 ] = 10   \n",
      "\n",
      "[ 2 ] = 20   \n",
      "\n",
      "[ 3 ] = 30  <----  Middle \n",
      "\n",
      "[ 4 ] = 40   \n",
      "\n",
      "[ 5 ] = 50   \n",
      "\n",
      "[ 6 ] = 60  <----  Tail \n",
      "\n",
      "_____________________________________________________\n",
      "[index] = value\n",
      "[ 0 ] = 0   \n",
      "\n",
      "[ 1 ] = 10   \n",
      "\n",
      "[ 2 ] = 20   \n",
      "\n",
      "[ 3 ] = 30   \n",
      "\n",
      "[ 4 ] = 40  <----  Head \n",
      "\n",
      "[ 5 ] = 50  <----  Middle \n",
      "\n",
      "[ 6 ] = 60  <----  Tail \n",
      "\n",
      "_____________________________________________________\n",
      "[index] = value\n",
      "[ 0 ] = 0   \n",
      "\n",
      "[ 1 ] = 10   \n",
      "\n",
      "[ 2 ] = 20   \n",
      "\n",
      "[ 3 ] = 30   \n",
      "\n",
      "[ 4 ] = 40   \n",
      "\n",
      "[ 5 ] = 50   \n",
      "\n",
      "[ 6 ] = 60  <----  Head Middle Tail \n",
      "\n"
     ]
    },
    {
     "data": {
      "text/plain": [
       "6"
      ]
     },
     "execution_count": 7,
     "metadata": {},
     "output_type": "execute_result"
    }
   ],
   "source": [
    "binarySearch([0,10,20,30,40,50,60], 60);"
   ]
  },
  {
   "cell_type": "markdown",
   "id": "90e3f991",
   "metadata": {},
   "source": [
    "# Boundary Condition (Not is the Array)"
   ]
  },
  {
   "cell_type": "code",
   "execution_count": 8,
   "id": "e262f61e",
   "metadata": {},
   "outputs": [
    {
     "name": "stdout",
     "output_type": "stream",
     "text": [
      "_____________________________________________________\n",
      "[index] = value\n",
      "[ 0 ] = 0  <----  Head \n",
      "\n",
      "[ 1 ] = 10   \n",
      "\n",
      "[ 2 ] = 20   \n",
      "\n",
      "[ 3 ] = 30  <----  Middle \n",
      "\n",
      "[ 4 ] = 40   \n",
      "\n",
      "[ 5 ] = 50   \n",
      "\n",
      "[ 6 ] = 60  <----  Tail \n",
      "\n",
      "_____________________________________________________\n",
      "[index] = value\n",
      "[ 0 ] = 0   \n",
      "\n",
      "[ 1 ] = 10   \n",
      "\n",
      "[ 2 ] = 20   \n",
      "\n",
      "[ 3 ] = 30   \n",
      "\n",
      "[ 4 ] = 40  <----  Head \n",
      "\n",
      "[ 5 ] = 50  <----  Middle \n",
      "\n",
      "[ 6 ] = 60  <----  Tail \n",
      "\n",
      "_____________________________________________________\n",
      "[index] = value\n",
      "[ 0 ] = 0   \n",
      "\n",
      "[ 1 ] = 10   \n",
      "\n",
      "[ 2 ] = 20   \n",
      "\n",
      "[ 3 ] = 30   \n",
      "\n",
      "[ 4 ] = 40   \n",
      "\n",
      "[ 5 ] = 50   \n",
      "\n",
      "[ 6 ] = 60  <----  Head Middle Tail \n",
      "\n"
     ]
    },
    {
     "data": {
      "text/plain": [
       "-1"
      ]
     },
     "execution_count": 8,
     "metadata": {},
     "output_type": "execute_result"
    }
   ],
   "source": [
    "binarySearch([0,10,20,30,40,50,60], 70);"
   ]
  },
  {
   "cell_type": "markdown",
   "id": "5c2ec612",
   "metadata": {},
   "source": [
    "You know you done when Head, Middle, Tail are equal and NOT found at Middle Pointer"
   ]
  },
  {
   "cell_type": "code",
   "execution_count": null,
   "id": "4e29973d",
   "metadata": {},
   "outputs": [],
   "source": []
  }
 ],
 "metadata": {
  "kernelspec": {
   "display_name": "JavaScript (Node.js)",
   "language": "javascript",
   "name": "javascript"
  },
  "language_info": {
   "file_extension": ".js",
   "mimetype": "application/javascript",
   "name": "javascript",
   "version": "18.18.2"
  }
 },
 "nbformat": 4,
 "nbformat_minor": 5
}
