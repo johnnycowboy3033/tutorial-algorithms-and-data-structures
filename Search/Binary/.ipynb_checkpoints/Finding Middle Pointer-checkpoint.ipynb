{
 "cells": [
  {
   "cell_type": "markdown",
   "id": "a6af44b9",
   "metadata": {},
   "source": [
    "# Library File"
   ]
  },
  {
   "cell_type": "code",
   "execution_count": 10,
   "id": "9503130d",
   "metadata": {},
   "outputs": [],
   "source": [
    "function printPointers(head,middle,tail,element){\n",
    "    \n",
    "    console.log('[index] = value');\n",
    "    \n",
    "    for( let index = 0; index < element.length; index++){\n",
    "        \n",
    "        let label = \"\";\n",
    "        \n",
    "        if(head == index || middle == index || tail == index){\n",
    "            label = label + \"<---- \";\n",
    "            \n",
    "            if(head == index){\n",
    "                label = label +\" Head\";\n",
    "            }\n",
    "            \n",
    "            if(middle == index){\n",
    "                label = label +\" Middle\";\n",
    "            }\n",
    "            \n",
    "            if(tail == index){\n",
    "                label = label +\" Tail\";\n",
    "            }\n",
    "        }\n",
    "        \n",
    "        \n",
    "        \n",
    "        console.log(`[ ${index} ] = ${element[index]}  ${label} \\n`)\n",
    "    }\n",
    "    \n",
    "}"
   ]
  },
  {
   "cell_type": "markdown",
   "id": "afa77bdc",
   "metadata": {},
   "source": [
    "# Introduction\n",
    "\n",
    "This Notebook I can look at how the Middle Pointer will be calculated. "
   ]
  },
  {
   "cell_type": "code",
   "execution_count": 2,
   "id": "f1f95c59",
   "metadata": {},
   "outputs": [],
   "source": [
    "let h;\n",
    "let t;\n",
    "let mid"
   ]
  },
  {
   "cell_type": "code",
   "execution_count": 8,
   "id": "1be331d1",
   "metadata": {},
   "outputs": [
    {
     "name": "stdout",
     "output_type": "stream",
     "text": [
      " t-h = 5 \n",
      "[index,count] = value\n",
      "[ 0 , 1 ] = 0  <----  Head \n",
      "\n",
      "[ 1 , 2 ] = 1   \n",
      "\n",
      "[ 2 , 3 ] = 2  <----  Middle \n",
      "\n",
      "[ 3 , 4 ] = 3   \n",
      "\n",
      "[ 4 , 5 ] = 4   \n",
      "\n",
      "[ 5 , 6 ] = 5  <----  Tail \n",
      "\n"
     ]
    }
   ],
   "source": [
    "h = 0;\n",
    "t = 5;\n",
    "\n",
    "mid = h + Math.floor((t - h) / 2);\n",
    "\n",
    "console.log(` t-h = ${t-h} `)\n",
    "\n",
    "printPointers(h,mid,t,[0,1,2,3,4,5])"
   ]
  },
  {
   "cell_type": "code",
   "execution_count": 6,
   "id": "72e914eb",
   "metadata": {},
   "outputs": [
    {
     "name": "stdout",
     "output_type": "stream",
     "text": [
      "[index,count] = value\n",
      "[ 0 , 1 ] = 0  <----  Head \n",
      "\n",
      "[ 1 , 2 ] = 1   \n",
      "\n",
      "[ 2 , 3 ] = 2   \n",
      "\n",
      "[ 3 , 4 ] = 3  <----  Middle \n",
      "\n",
      "[ 4 , 5 ] = 4   \n",
      "\n",
      "[ 5 , 6 ] = 5   \n",
      "\n",
      "[ 6 , 7 ] = 6  <----  Tail \n",
      "\n"
     ]
    }
   ],
   "source": [
    "h = 0;\n",
    "t = 6;\n",
    "\n",
    "mid = h + Math.floor((t - h) / 2);\n",
    "\n",
    "printPointers(h,mid,t,[0,1,2,3,4,5,6])"
   ]
  },
  {
   "cell_type": "code",
   "execution_count": 7,
   "id": "8793b51c",
   "metadata": {},
   "outputs": [
    {
     "name": "stdout",
     "output_type": "stream",
     "text": [
      "[index,count] = value\n",
      "[ 0 , 1 ] = 0   \n",
      "\n",
      "[ 1 , 2 ] = 1   \n",
      "\n",
      "[ 2 , 3 ] = 2  <----  Head \n",
      "\n",
      "[ 3 , 4 ] = 3   \n",
      "\n",
      "[ 4 , 5 ] = 4  <----  Middle \n",
      "\n",
      "[ 5 , 6 ] = 5   \n",
      "\n",
      "[ 6 , 7 ] = 6  <----  Tail \n",
      "\n"
     ]
    }
   ],
   "source": [
    "h = 2;\n",
    "t = 6;\n",
    "\n",
    "mid = h + Math.floor((t - h) / 2);\n",
    "\n",
    "printPointers(h,mid,t,[0,1,2,3,4,5,6])"
   ]
  },
  {
   "cell_type": "code",
   "execution_count": 9,
   "id": "fbd4a6ac",
   "metadata": {},
   "outputs": [
    {
     "name": "stdout",
     "output_type": "stream",
     "text": [
      "[index,count] = value\n",
      "[ 0 , 1 ] = 0   \n",
      "\n",
      "[ 1 , 2 ] = 1   \n",
      "\n",
      "[ 2 , 3 ] = 2  <----  Head \n",
      "\n",
      "[ 3 , 4 ] = 3   \n",
      "\n",
      "[ 4 , 5 ] = 4  <----  Middle \n",
      "\n",
      "[ 5 , 6 ] = 5   \n",
      "\n",
      "[ 6 , 7 ] = 6   \n",
      "\n",
      "[ 7 , 8 ] = 7  <----  Tail \n",
      "\n"
     ]
    }
   ],
   "source": [
    "h = 2;\n",
    "t = 7;\n",
    "\n",
    "mid = h + Math.floor((t - h) / 2);\n",
    "\n",
    "printPointers(h,mid,t,[0,1,2,3,4,5,6,7])"
   ]
  },
  {
   "cell_type": "code",
   "execution_count": null,
   "id": "d81119b8",
   "metadata": {},
   "outputs": [],
   "source": []
  }
 ],
 "metadata": {
  "kernelspec": {
   "display_name": "JavaScript (Node.js)",
   "language": "javascript",
   "name": "javascript"
  },
  "language_info": {
   "file_extension": ".js",
   "mimetype": "application/javascript",
   "name": "javascript",
   "version": "18.18.2"
  }
 },
 "nbformat": 4,
 "nbformat_minor": 5
}
