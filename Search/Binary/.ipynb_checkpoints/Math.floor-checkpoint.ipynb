{
 "cells": [
  {
   "cell_type": "markdown",
   "id": "549cf54b",
   "metadata": {},
   "source": [
    "# Math.floor()"
   ]
  },
  {
   "cell_type": "markdown",
   "id": "4b2ad74a",
   "metadata": {},
   "source": [
    "The Math.floor() static method always rounds down and returns the largest integer less than or equal to a given number."
   ]
  },
  {
   "cell_type": "code",
   "execution_count": 1,
   "id": "3ab086e2",
   "metadata": {},
   "outputs": [
    {
     "name": "stdout",
     "output_type": "stream",
     "text": [
      "5\n"
     ]
    }
   ],
   "source": [
    "console.log(Math.floor(5.95));\n",
    "// Expected output: 5"
   ]
  },
  {
   "cell_type": "code",
   "execution_count": 2,
   "id": "b3fe6396",
   "metadata": {},
   "outputs": [
    {
     "name": "stdout",
     "output_type": "stream",
     "text": [
      "5\n"
     ]
    }
   ],
   "source": [
    "console.log(Math.floor(5.05));\n",
    "// Expected output: 5"
   ]
  },
  {
   "cell_type": "code",
   "execution_count": 3,
   "id": "10f89823",
   "metadata": {},
   "outputs": [
    {
     "name": "stdout",
     "output_type": "stream",
     "text": [
      "5\n"
     ]
    }
   ],
   "source": [
    "console.log(Math.floor(5));\n",
    "// Expected output: 5"
   ]
  },
  {
   "cell_type": "code",
   "execution_count": 4,
   "id": "c06b9bca",
   "metadata": {},
   "outputs": [
    {
     "name": "stdout",
     "output_type": "stream",
     "text": [
      "-6\n"
     ]
    }
   ],
   "source": [
    "console.log(Math.floor(-5.05));\n",
    "// Expected output: -6"
   ]
  },
  {
   "cell_type": "code",
   "execution_count": 5,
   "id": "8fa83656",
   "metadata": {},
   "outputs": [
    {
     "name": "stdout",
     "output_type": "stream",
     "text": [
      "0\n"
     ]
    }
   ],
   "source": [
    "console.log(Math.floor(.05));\n",
    "// Expected output: 1"
   ]
  },
  {
   "cell_type": "code",
   "execution_count": null,
   "id": "6473212b",
   "metadata": {},
   "outputs": [],
   "source": []
  }
 ],
 "metadata": {
  "kernelspec": {
   "display_name": "JavaScript (Node.js)",
   "language": "javascript",
   "name": "javascript"
  },
  "language_info": {
   "file_extension": ".js",
   "mimetype": "application/javascript",
   "name": "javascript",
   "version": "20.11.1"
  }
 },
 "nbformat": 4,
 "nbformat_minor": 5
}
