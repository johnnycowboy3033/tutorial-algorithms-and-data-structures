{
 "cells": [
  {
   "cell_type": "markdown",
   "id": "a6af44b9",
   "metadata": {},
   "source": [
    "# Library File"
   ]
  },
  {
   "cell_type": "code",
   "execution_count": 1,
   "id": "9503130d",
   "metadata": {},
   "outputs": [],
   "source": [
    "function printPointers(head,middle,tail,element){\n",
    "    \n",
    "    console.log('[index] = value');\n",
    "    \n",
    "    for( let index = 0; index < element.length; index++){\n",
    "        \n",
    "        let label = \"\";\n",
    "        \n",
    "        if(head == index || middle == index || tail == index){\n",
    "            label = label + \"<---- \";\n",
    "            \n",
    "            if(head == index){\n",
    "                label = label +\" Head\";\n",
    "            }\n",
    "            \n",
    "            if(middle == index){\n",
    "                label = label +\" Middle\";\n",
    "            }\n",
    "            \n",
    "            if(tail == index){\n",
    "                label = label +\" Tail\";\n",
    "            }\n",
    "        }\n",
    "        \n",
    "        \n",
    "        \n",
    "        console.log(`[ ${index} ] = ${element[index]}  ${label} \\n`)\n",
    "    }\n",
    "    \n",
    "}"
   ]
  },
  {
   "cell_type": "markdown",
   "id": "afa77bdc",
   "metadata": {},
   "source": [
    "# Introduction\n",
    "\n",
    "This Notebook I can look at how the Middle Pointer will be calculated. "
   ]
  },
  {
   "cell_type": "code",
   "execution_count": 2,
   "id": "f1f95c59",
   "metadata": {},
   "outputs": [],
   "source": [
    "let h; //Head\n",
    "let mid //Middle\n",
    "let t; //Tail"
   ]
  },
  {
   "cell_type": "code",
   "execution_count": 3,
   "id": "1be331d1",
   "metadata": {},
   "outputs": [
    {
     "name": "stdout",
     "output_type": "stream",
     "text": [
      " t-h = 6 \n",
      "[index] = value\n",
      "[ 0 ] = 0  <----  Head \n",
      "\n",
      "[ 1 ] = 10   \n",
      "\n",
      "[ 2 ] = 20   \n",
      "\n",
      "[ 3 ] = 30  <----  Middle \n",
      "\n",
      "[ 4 ] = 40   \n",
      "\n",
      "[ 5 ] = 50   \n",
      "\n",
      "[ 6 ] = 60  <----  Tail \n",
      "\n"
     ]
    }
   ],
   "source": [
    "h = 0;\n",
    "t = 6;\n",
    "\n",
    "mid = h + Math.floor((t - h) / 2);\n",
    "\n",
    "console.log(` t-h = ${t-h} `)\n",
    "\n",
    "printPointers(h,mid,t,[0,10,20,30,40,50,60])"
   ]
  },
  {
   "cell_type": "code",
   "execution_count": 4,
   "id": "72e914eb",
   "metadata": {},
   "outputs": [
    {
     "name": "stdout",
     "output_type": "stream",
     "text": [
      "[index] = value\n",
      "[ 0 ] = 0  <----  Head \n",
      "\n",
      "[ 1 ] = 1   \n",
      "\n",
      "[ 2 ] = 2   \n",
      "\n",
      "[ 3 ] = 3  <----  Middle \n",
      "\n",
      "[ 4 ] = 4   \n",
      "\n",
      "[ 5 ] = 5   \n",
      "\n",
      "[ 6 ] = 6  <----  Tail \n",
      "\n"
     ]
    }
   ],
   "source": [
    "h = 0;\n",
    "t = 6;\n",
    "\n",
    "mid = h + Math.floor((t - h) / 2);\n",
    "\n",
    "printPointers(h,mid,t,[0,1,2,3,4,5,6])"
   ]
  },
  {
   "cell_type": "code",
   "execution_count": 5,
   "id": "8793b51c",
   "metadata": {},
   "outputs": [
    {
     "name": "stdout",
     "output_type": "stream",
     "text": [
      "[index] = value\n",
      "[ 0 ] = 0   \n",
      "\n",
      "[ 1 ] = 1   \n",
      "\n",
      "[ 2 ] = 2  <----  Head \n",
      "\n",
      "[ 3 ] = 3   \n",
      "\n",
      "[ 4 ] = 4  <----  Middle \n",
      "\n",
      "[ 5 ] = 5   \n",
      "\n",
      "[ 6 ] = 6  <----  Tail \n",
      "\n"
     ]
    }
   ],
   "source": [
    "h = 2;\n",
    "t = 6;\n",
    "\n",
    "mid = h + Math.floor((t - h) / 2);\n",
    "\n",
    "printPointers(h,mid,t,[0,1,2,3,4,5,6])"
   ]
  },
  {
   "cell_type": "code",
   "execution_count": 6,
   "id": "fbd4a6ac",
   "metadata": {},
   "outputs": [
    {
     "name": "stdout",
     "output_type": "stream",
     "text": [
      "[index] = value\n",
      "[ 0 ] = 0   \n",
      "\n",
      "[ 1 ] = 1   \n",
      "\n",
      "[ 2 ] = 2  <----  Head \n",
      "\n",
      "[ 3 ] = 3   \n",
      "\n",
      "[ 4 ] = 4  <----  Middle \n",
      "\n",
      "[ 5 ] = 5   \n",
      "\n",
      "[ 6 ] = 6   \n",
      "\n",
      "[ 7 ] = 7  <----  Tail \n",
      "\n"
     ]
    }
   ],
   "source": [
    "h = 2;\n",
    "t = 7;\n",
    "\n",
    "mid = h + Math.floor((t - h) / 2);\n",
    "\n",
    "printPointers(h,mid,t,[0,1,2,3,4,5,6,7])"
   ]
  }
 ],
 "metadata": {
  "kernelspec": {
   "display_name": "JavaScript (Node.js)",
   "language": "javascript",
   "name": "javascript"
  },
  "language_info": {
   "file_extension": ".js",
   "mimetype": "application/javascript",
   "name": "javascript",
   "version": "18.18.2"
  }
 },
 "nbformat": 4,
 "nbformat_minor": 5
}
