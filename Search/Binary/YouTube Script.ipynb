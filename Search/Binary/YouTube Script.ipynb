{
 "cells": [
  {
   "cell_type": "markdown",
   "id": "d9b3c104",
   "metadata": {},
   "source": [
    "# Library Files"
   ]
  },
  {
   "cell_type": "code",
   "execution_count": 8,
   "id": "312b0164",
   "metadata": {},
   "outputs": [],
   "source": [
    "function printArray(arr,midpoint){\n",
    "    \n",
    "    console.log('[index] = value');\n",
    "    \n",
    "    for( let index = 0; index < arr.length; index++){\n",
    "        \n",
    "        let label = \"\";\n",
    "        \n",
    "        if(midpoint == index){\n",
    "            label = \"<----  Midpoint\";\n",
    "        }\n",
    "        \n",
    "        \n",
    "        console.log(`[ ${index} ] = ${arr[index]}  ${label} \\n`)\n",
    "    }\n",
    "    \n",
    "}"
   ]
  },
  {
   "cell_type": "markdown",
   "id": "205ac5a5",
   "metadata": {},
   "source": [
    "# Binary Search"
   ]
  },
  {
   "cell_type": "markdown",
   "id": "f8a505a4",
   "metadata": {},
   "source": [
    "Binary Search is defined as a searching algorithm used in a sorted array by repeatedly dividing the search interval in half. The idea of binary search is to use the information that the array is sorted and reduce the time complexity to O(log N). The array must be already pre sorted from small to largest too small value before you do the search. This algorithm is used to search for a specific element in a sorted array by repeatedly dividing the search interval in half."
   ]
  },
  {
   "cell_type": "markdown",
   "id": "919324a0",
   "metadata": {},
   "source": [
    "# Coding Approach"
   ]
  },
  {
   "cell_type": "markdown",
   "id": "db2ec93e",
   "metadata": {},
   "source": [
    "When trying to decide what coding approach you want to use it's good for your analysis on a problem. The array elements are 3,5,7,8,9,13,56 and the item we are searching for is 13. In a Binary Search you cut the array in half and check midpoint to see if the midpoint is equal, larger than, or less than for the value you are searching for. The midpoint in the array is at index 3. 13 is greater than 8 so index 4, 5, and 6 still needs to be checked. You can use pointers to or cut the array into a sub array to keep track of the elements that are still to be checked. When using pointers you create two variables to store the first (head pointer) and last (tail pointer) element. So head would equal 4 and tail would equal 6. If choose to cut the array into a new array the contain would be 9, 13, and 56.\n",
    "\n",
    "The common mistake when moving the front or the tail pointers or splicing the array it's when you do it you include the midpoint element. For example, if the midpoint is index 3 which contains the value 8 should not be included in the next search iteration."
   ]
  },
  {
   "cell_type": "markdown",
   "id": "5eaa5fe0",
   "metadata": {},
   "source": [
    "## Pointer"
   ]
  },
  {
   "cell_type": "markdown",
   "id": "5ee64d15",
   "metadata": {},
   "source": [
    "When using pointers do not check the value of the head and tail pointers just check the midpoint pointer value."
   ]
  },
  {
   "cell_type": "code",
   "execution_count": 11,
   "id": "44f319fb",
   "metadata": {},
   "outputs": [
    {
     "name": "stdout",
     "output_type": "stream",
     "text": [
      "[index] = value\n",
      "[ 0 ] = 3   \n",
      "\n",
      "[ 1 ] = 5   \n",
      "\n",
      "[ 2 ] = 7   \n",
      "\n",
      "[ 3 ] = 8  <----  Midpoint \n",
      "\n",
      "[ 4 ] = 9   \n",
      "\n",
      "[ 5 ] = 13   \n",
      "\n",
      "[ 6 ] = 56   \n",
      "\n"
     ]
    }
   ],
   "source": [
    "printArray([3,5,7,8,9,13,56], 3);"
   ]
  },
  {
   "cell_type": "markdown",
   "id": "fd334ebf",
   "metadata": {},
   "source": [
    "## Slice Array"
   ]
  },
  {
   "cell_type": "markdown",
   "id": "9c5383d5",
   "metadata": {},
   "source": [
    "If you don't want to use pointers to keep track of what part of the array that you're searching, you can always use the JavaScript Slice  method array to reduce the array to the part that you want to search. Then on the next search iteration you can do Binary Search through the reduced array. If you're writing a recursive algorithm you can use the splice array to pass in the parameter list. \n"
   ]
  },
  {
   "cell_type": "code",
   "execution_count": 1,
   "id": "02fe426f",
   "metadata": {},
   "outputs": [
    {
     "data": {
      "text/plain": [
       "[ 9, 13 ]"
      ]
     },
     "execution_count": 1,
     "metadata": {},
     "output_type": "execute_result"
    }
   ],
   "source": [
    "[3,5,7,8,9,13,56].slice(4, 6)"
   ]
  },
  {
   "cell_type": "code",
   "execution_count": 4,
   "id": "2c6c0ea7",
   "metadata": {},
   "outputs": [],
   "source": [
    "function binarySearch(arr,target){\n",
    "    \n",
    "    let midpoint = Math.floor( arr.length/2);\n",
    "    \n",
    "    if( arr[midpoint] == target){\n",
    "        return midpoint;\n",
    "    }\n",
    "    \n",
    "    if( midpoint > target){\n",
    "        \n",
    "        binarySearch( arr.slice(midpoint +1, arr.length), target );\n",
    "        \n",
    "    }else{\n",
    "        binarySearch( arr.slice(0, midpoint - 1), target );\n",
    "    }\n",
    "}"
   ]
  },
  {
   "cell_type": "code",
   "execution_count": 5,
   "id": "0ccd2291",
   "metadata": {},
   "outputs": [
    {
     "ename": "RangeError",
     "evalue": "Maximum call stack size exceeded",
     "output_type": "error",
     "traceback": [
      "evalmachine.<anonymous>:14",
      "        binarySearch( arr.slice(0, midpoint - 1), target );",
      "                          ^",
      "",
      "RangeError: Maximum call stack size exceeded",
      "    at Array.slice (<anonymous>)",
      "    at binarySearch (evalmachine.<anonymous>:14:27)",
      "    at binarySearch (evalmachine.<anonymous>:14:9)",
      "    at binarySearch (evalmachine.<anonymous>:14:9)",
      "    at binarySearch (evalmachine.<anonymous>:14:9)",
      "    at binarySearch (evalmachine.<anonymous>:14:9)",
      "    at binarySearch (evalmachine.<anonymous>:14:9)",
      "    at binarySearch (evalmachine.<anonymous>:14:9)",
      "    at binarySearch (evalmachine.<anonymous>:14:9)",
      "    at binarySearch (evalmachine.<anonymous>:14:9)"
     ]
    }
   ],
   "source": [
    "binarySearch( [3,5,7,8,9,13,56], 13);"
   ]
  },
  {
   "cell_type": "code",
   "execution_count": null,
   "id": "4c38a5dc",
   "metadata": {},
   "outputs": [],
   "source": []
  }
 ],
 "metadata": {
  "kernelspec": {
   "display_name": "JavaScript (Node.js)",
   "language": "javascript",
   "name": "javascript"
  },
  "language_info": {
   "file_extension": ".js",
   "mimetype": "application/javascript",
   "name": "javascript",
   "version": "18.18.2"
  }
 },
 "nbformat": 4,
 "nbformat_minor": 5
}
