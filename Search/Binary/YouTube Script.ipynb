{
 "cells": [
  {
   "cell_type": "markdown",
   "id": "d9b3c104",
   "metadata": {},
   "source": [
    "# Library Files"
   ]
  },
  {
   "cell_type": "code",
   "execution_count": 8,
   "id": "312b0164",
   "metadata": {},
   "outputs": [],
   "source": [
    "function printArray(arr,midpoint){\n",
    "    \n",
    "    console.log('[index] = value');\n",
    "    \n",
    "    for( let index = 0; index < arr.length; index++){\n",
    "        \n",
    "        let label = \"\";\n",
    "        \n",
    "        if(midpoint == index){\n",
    "            label = \"<----  Midpoint\";\n",
    "        }\n",
    "        \n",
    "        \n",
    "        console.log(`[ ${index} ] = ${arr[index]}  ${label} \\n`)\n",
    "    }\n",
    "    \n",
    "}"
   ]
  },
  {
   "cell_type": "markdown",
   "id": "205ac5a5",
   "metadata": {},
   "source": [
    "# Binary Search"
   ]
  },
  {
   "cell_type": "markdown",
   "id": "f8a505a4",
   "metadata": {},
   "source": [
    "Binary Search is defined as a searching algorithm used in a sorted array by repeatedly dividing the search interval in half. The idea of binary search is to use the information that the array is sorted and reduce the time complexity to O(log N). The array must be already pre sorted from small to largest too small value before you do the search. This algorithm is used to search for a specific element in a sorted array by repeatedly dividing the search interval in half."
   ]
  },
  {
   "cell_type": "markdown",
   "id": "919324a0",
   "metadata": {},
   "source": [
    "# Coding Approach"
   ]
  },
  {
   "cell_type": "markdown",
   "id": "db2ec93e",
   "metadata": {},
   "source": [
    "When trying to decide what coding approach you want to use it's good writing example on paper. The array elements are 3,5,7,8,9,13,56 and the item we are searching for is 13. In a Binary Search you reduce the array in half and check midpoint to see if the midpoint is equal, larger than, or less than for the value you are searching for. The midpoint in the array is at index 3. 13 is greater than 8 so index 4, 5, and 6 still needs to be checked. You use pointers to to keep track of the elements that are still to be checked. When using pointers you create two variables to store the first (head pointer) and last (tail pointer) element. So head would equal 4 and tail would equal 6. If choose to cut the array into a new array the contain would be 9, 13, and 56.\n",
    "\n",
    "The common mistake when moving the front or the tail pointers you do it you include the midpoint element. For example, if the midpoint is index 3 which contains the value 8 should not be included in the next search iteration. In this approach you uses pointers because to maintain the index value. When using pointers do not check the value of the head and tail pointers just check the midpoint pointer value."
   ]
  },
  {
   "cell_type": "code",
   "execution_count": 11,
   "id": "44f319fb",
   "metadata": {},
   "outputs": [
    {
     "name": "stdout",
     "output_type": "stream",
     "text": [
      "[index] = value\n",
      "[ 0 ] = 3   \n",
      "\n",
      "[ 1 ] = 5   \n",
      "\n",
      "[ 2 ] = 7   \n",
      "\n",
      "[ 3 ] = 8  <----  Midpoint \n",
      "\n",
      "[ 4 ] = 9   \n",
      "\n",
      "[ 5 ] = 13   \n",
      "\n",
      "[ 6 ] = 56   \n",
      "\n"
     ]
    }
   ],
   "source": [
    "printArray([3,5,7,8,9,13,56], 3);"
   ]
  },
  {
   "cell_type": "markdown",
   "id": "a706382b",
   "metadata": {},
   "source": [
    "## Big O Complexity of Binary Search:"
   ]
  },
  {
   "cell_type": "markdown",
   "id": "3b3cb4f8",
   "metadata": {},
   "source": [
    "* The worst-case running time of binary search is logarithmic, denoted as O(log n).     \n",
    "* What does this mean?       \n",
    "    * As the input size (number of elements in the array) grows, the running time of binary search increases at most logarithmically.         \n",
    "    * Specifically, for large enough input sizes, the running time is at most k ⋅ log n for some constant k.   \n",
    "* In other words, binary search efficiently narrows down the search space by half with each comparison, leading to a logarithmic growth rate.    "
   ]
  },
  {
   "cell_type": "code",
   "execution_count": 2,
   "id": "590c1625",
   "metadata": {},
   "outputs": [
    {
     "data": {
      "text/plain": [
       "1.9459101490553132"
      ]
     },
     "execution_count": 2,
     "metadata": {},
     "output_type": "execute_result"
    }
   ],
   "source": [
    "Math.log(7)"
   ]
  },
  {
   "cell_type": "code",
   "execution_count": null,
   "id": "0a25b10e",
   "metadata": {},
   "outputs": [],
   "source": []
  }
 ],
 "metadata": {
  "kernelspec": {
   "display_name": "JavaScript (Node.js)",
   "language": "javascript",
   "name": "javascript"
  },
  "language_info": {
   "file_extension": ".js",
   "mimetype": "application/javascript",
   "name": "javascript",
   "version": "18.18.2"
  }
 },
 "nbformat": 4,
 "nbformat_minor": 5
}
