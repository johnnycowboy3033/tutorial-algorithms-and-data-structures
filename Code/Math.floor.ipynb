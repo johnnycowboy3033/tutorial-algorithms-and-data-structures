{
 "cells": [
  {
   "cell_type": "markdown",
   "id": "549cf54b",
   "metadata": {},
   "source": [
    "# Math.floor()"
   ]
  },
  {
   "cell_type": "markdown",
   "id": "4b2ad74a",
   "metadata": {},
   "source": [
    "The Math.floor() static method always rounds down and returns the largest integer less than or equal to a given number."
   ]
  },
  {
   "cell_type": "code",
   "execution_count": null,
   "id": "3ab086e2",
   "metadata": {},
   "outputs": [
    {
     "ename": "",
     "evalue": "",
     "output_type": "error",
     "traceback": [
      "\u001b[1;31mFailed to start the Kernel. \n",
      "\u001b[1;31mC:\\Users\\johnc\\AppData\\Roaming\\npm\\node_modules\\ijavascript\\node_modules\\node-gyp-build\\node-gyp-build.js:60\n",
      "\u001b[1;31m  throw new Error('No native build was found for ' + target + '\\n    loaded from: ' + dir + '\\n')\n",
      "\u001b[1;31m  ^\n",
      "\u001b[1;31m\n",
      "\u001b[1;31mError: No native build was found for platform=win32 arch=x64 runtime=electron abi=115 uv=1 libc=glibc node=20.11.1\n",
      "\u001b[1;31m    loaded from: C:\\Users\\johnc\\AppData\\Roaming\\npm\\node_modules\\ijavascript\\node_modules\\zeromq\n",
      "\u001b[1;31m\n",
      "\u001b[1;31m    at load.resolve.load.path (C:\\Users\\johnc\\AppData\\Roaming\\npm\\node_modules\\ijavascript\\node_modules\\node-gyp-build\\node-gyp-build.js:60:9)\n",
      "\u001b[1;31m    at load (C:\\Users\\johnc\\AppData\\Roaming\\npm\\node_modules\\ijavascript\\node_modules\\node-gyp-build\\node-gyp-build.js:22:30)\n",
      "\u001b[1;31m    at Object.<anonymous> (C:\\Users\\johnc\\AppData\\Roaming\\npm\\node_modules\\ijavascript\\node_modules\\zeromq\\binding.js:1:43)\n",
      "\u001b[1;31m    at Module._compile (node:internal/modules/cjs/loader:1376:14)\n",
      "\u001b[1;31m    at Module._extensions..js (node:internal/modules/cjs/loader:1435:10)\n",
      "\u001b[1;31m    at Module.load (node:internal/modules/cjs/loader:1207:32)\n",
      "\u001b[1;31m    at Module._load (node:internal/modules/cjs/loader:1023:12)\n",
      "\u001b[1;31m    at Module.require (node:internal/modules/cjs/loader:1235:19)\n",
      "\u001b[1;31m    at require (node:internal/modules/helpers:176:18)\n",
      "\u001b[1;31m    at Object.<anonymous> (C:\\Users\\johnc\\AppData\\Roaming\\npm\\node_modules\\ijavascript\\node_modules\\zeromq\\lib\\index.js:6:11)\n",
      "\u001b[1;31m\n",
      "\u001b[1;31mNode.js v20.11.1. \n",
      "\u001b[1;31mView Jupyter <a href='command:jupyter.viewOutput'>log</a> for further details."
     ]
    }
   ],
   "source": [
    "console.log(Math.floor(5.95));\n",
    "// Expected output: 5"
   ]
  },
  {
   "cell_type": "code",
   "execution_count": null,
   "id": "b3fe6396",
   "metadata": {},
   "outputs": [
    {
     "ename": "",
     "evalue": "",
     "output_type": "error",
     "traceback": [
      "\u001b[1;31mFailed to start the Kernel. \n",
      "\u001b[1;31mC:\\Users\\johnc\\AppData\\Roaming\\npm\\node_modules\\ijavascript\\node_modules\\node-gyp-build\\node-gyp-build.js:60\n",
      "\u001b[1;31m  throw new Error('No native build was found for ' + target + '\\n    loaded from: ' + dir + '\\n')\n",
      "\u001b[1;31m  ^\n",
      "\u001b[1;31m\n",
      "\u001b[1;31mError: No native build was found for platform=win32 arch=x64 runtime=electron abi=115 uv=1 libc=glibc node=20.11.1\n",
      "\u001b[1;31m    loaded from: C:\\Users\\johnc\\AppData\\Roaming\\npm\\node_modules\\ijavascript\\node_modules\\zeromq\n",
      "\u001b[1;31m\n",
      "\u001b[1;31m    at load.resolve.load.path (C:\\Users\\johnc\\AppData\\Roaming\\npm\\node_modules\\ijavascript\\node_modules\\node-gyp-build\\node-gyp-build.js:60:9)\n",
      "\u001b[1;31m    at load (C:\\Users\\johnc\\AppData\\Roaming\\npm\\node_modules\\ijavascript\\node_modules\\node-gyp-build\\node-gyp-build.js:22:30)\n",
      "\u001b[1;31m    at Object.<anonymous> (C:\\Users\\johnc\\AppData\\Roaming\\npm\\node_modules\\ijavascript\\node_modules\\zeromq\\binding.js:1:43)\n",
      "\u001b[1;31m    at Module._compile (node:internal/modules/cjs/loader:1376:14)\n",
      "\u001b[1;31m    at Module._extensions..js (node:internal/modules/cjs/loader:1435:10)\n",
      "\u001b[1;31m    at Module.load (node:internal/modules/cjs/loader:1207:32)\n",
      "\u001b[1;31m    at Module._load (node:internal/modules/cjs/loader:1023:12)\n",
      "\u001b[1;31m    at Module.require (node:internal/modules/cjs/loader:1235:19)\n",
      "\u001b[1;31m    at require (node:internal/modules/helpers:176:18)\n",
      "\u001b[1;31m    at Object.<anonymous> (C:\\Users\\johnc\\AppData\\Roaming\\npm\\node_modules\\ijavascript\\node_modules\\zeromq\\lib\\index.js:6:11)\n",
      "\u001b[1;31m\n",
      "\u001b[1;31mNode.js v20.11.1. \n",
      "\u001b[1;31mView Jupyter <a href='command:jupyter.viewOutput'>log</a> for further details."
     ]
    }
   ],
   "source": [
    "console.log(Math.floor(5.05));\n",
    "// Expected output: 5"
   ]
  },
  {
   "cell_type": "code",
   "execution_count": null,
   "id": "10f89823",
   "metadata": {},
   "outputs": [
    {
     "ename": "",
     "evalue": "",
     "output_type": "error",
     "traceback": [
      "\u001b[1;31mFailed to start the Kernel. \n",
      "\u001b[1;31mC:\\Users\\johnc\\AppData\\Roaming\\npm\\node_modules\\ijavascript\\node_modules\\node-gyp-build\\node-gyp-build.js:60\n",
      "\u001b[1;31m  throw new Error('No native build was found for ' + target + '\\n    loaded from: ' + dir + '\\n')\n",
      "\u001b[1;31m  ^\n",
      "\u001b[1;31m\n",
      "\u001b[1;31mError: No native build was found for platform=win32 arch=x64 runtime=electron abi=115 uv=1 libc=glibc node=20.11.1\n",
      "\u001b[1;31m    loaded from: C:\\Users\\johnc\\AppData\\Roaming\\npm\\node_modules\\ijavascript\\node_modules\\zeromq\n",
      "\u001b[1;31m\n",
      "\u001b[1;31m    at load.resolve.load.path (C:\\Users\\johnc\\AppData\\Roaming\\npm\\node_modules\\ijavascript\\node_modules\\node-gyp-build\\node-gyp-build.js:60:9)\n",
      "\u001b[1;31m    at load (C:\\Users\\johnc\\AppData\\Roaming\\npm\\node_modules\\ijavascript\\node_modules\\node-gyp-build\\node-gyp-build.js:22:30)\n",
      "\u001b[1;31m    at Object.<anonymous> (C:\\Users\\johnc\\AppData\\Roaming\\npm\\node_modules\\ijavascript\\node_modules\\zeromq\\binding.js:1:43)\n",
      "\u001b[1;31m    at Module._compile (node:internal/modules/cjs/loader:1376:14)\n",
      "\u001b[1;31m    at Module._extensions..js (node:internal/modules/cjs/loader:1435:10)\n",
      "\u001b[1;31m    at Module.load (node:internal/modules/cjs/loader:1207:32)\n",
      "\u001b[1;31m    at Module._load (node:internal/modules/cjs/loader:1023:12)\n",
      "\u001b[1;31m    at Module.require (node:internal/modules/cjs/loader:1235:19)\n",
      "\u001b[1;31m    at require (node:internal/modules/helpers:176:18)\n",
      "\u001b[1;31m    at Object.<anonymous> (C:\\Users\\johnc\\AppData\\Roaming\\npm\\node_modules\\ijavascript\\node_modules\\zeromq\\lib\\index.js:6:11)\n",
      "\u001b[1;31m\n",
      "\u001b[1;31mNode.js v20.11.1. \n",
      "\u001b[1;31mView Jupyter <a href='command:jupyter.viewOutput'>log</a> for further details."
     ]
    }
   ],
   "source": [
    "console.log(Math.floor(5));\n",
    "// Expected output: 5"
   ]
  },
  {
   "cell_type": "code",
   "execution_count": null,
   "id": "c06b9bca",
   "metadata": {},
   "outputs": [
    {
     "ename": "",
     "evalue": "",
     "output_type": "error",
     "traceback": [
      "\u001b[1;31mFailed to start the Kernel. \n",
      "\u001b[1;31mC:\\Users\\johnc\\AppData\\Roaming\\npm\\node_modules\\ijavascript\\node_modules\\node-gyp-build\\node-gyp-build.js:60\n",
      "\u001b[1;31m  throw new Error('No native build was found for ' + target + '\\n    loaded from: ' + dir + '\\n')\n",
      "\u001b[1;31m  ^\n",
      "\u001b[1;31m\n",
      "\u001b[1;31mError: No native build was found for platform=win32 arch=x64 runtime=electron abi=115 uv=1 libc=glibc node=20.11.1\n",
      "\u001b[1;31m    loaded from: C:\\Users\\johnc\\AppData\\Roaming\\npm\\node_modules\\ijavascript\\node_modules\\zeromq\n",
      "\u001b[1;31m\n",
      "\u001b[1;31m    at load.resolve.load.path (C:\\Users\\johnc\\AppData\\Roaming\\npm\\node_modules\\ijavascript\\node_modules\\node-gyp-build\\node-gyp-build.js:60:9)\n",
      "\u001b[1;31m    at load (C:\\Users\\johnc\\AppData\\Roaming\\npm\\node_modules\\ijavascript\\node_modules\\node-gyp-build\\node-gyp-build.js:22:30)\n",
      "\u001b[1;31m    at Object.<anonymous> (C:\\Users\\johnc\\AppData\\Roaming\\npm\\node_modules\\ijavascript\\node_modules\\zeromq\\binding.js:1:43)\n",
      "\u001b[1;31m    at Module._compile (node:internal/modules/cjs/loader:1376:14)\n",
      "\u001b[1;31m    at Module._extensions..js (node:internal/modules/cjs/loader:1435:10)\n",
      "\u001b[1;31m    at Module.load (node:internal/modules/cjs/loader:1207:32)\n",
      "\u001b[1;31m    at Module._load (node:internal/modules/cjs/loader:1023:12)\n",
      "\u001b[1;31m    at Module.require (node:internal/modules/cjs/loader:1235:19)\n",
      "\u001b[1;31m    at require (node:internal/modules/helpers:176:18)\n",
      "\u001b[1;31m    at Object.<anonymous> (C:\\Users\\johnc\\AppData\\Roaming\\npm\\node_modules\\ijavascript\\node_modules\\zeromq\\lib\\index.js:6:11)\n",
      "\u001b[1;31m\n",
      "\u001b[1;31mNode.js v20.11.1. \n",
      "\u001b[1;31mView Jupyter <a href='command:jupyter.viewOutput'>log</a> for further details."
     ]
    }
   ],
   "source": [
    "console.log(Math.floor(-5.05));\n",
    "// Expected output: -6"
   ]
  },
  {
   "cell_type": "code",
   "execution_count": null,
   "id": "8fa83656",
   "metadata": {},
   "outputs": [
    {
     "ename": "",
     "evalue": "",
     "output_type": "error",
     "traceback": [
      "\u001b[1;31mFailed to start the Kernel. \n",
      "\u001b[1;31mC:\\Users\\johnc\\AppData\\Roaming\\npm\\node_modules\\ijavascript\\node_modules\\node-gyp-build\\node-gyp-build.js:60\n",
      "\u001b[1;31m  throw new Error('No native build was found for ' + target + '\\n    loaded from: ' + dir + '\\n')\n",
      "\u001b[1;31m  ^\n",
      "\u001b[1;31m\n",
      "\u001b[1;31mError: No native build was found for platform=win32 arch=x64 runtime=electron abi=115 uv=1 libc=glibc node=20.11.1\n",
      "\u001b[1;31m    loaded from: C:\\Users\\johnc\\AppData\\Roaming\\npm\\node_modules\\ijavascript\\node_modules\\zeromq\n",
      "\u001b[1;31m\n",
      "\u001b[1;31m    at load.resolve.load.path (C:\\Users\\johnc\\AppData\\Roaming\\npm\\node_modules\\ijavascript\\node_modules\\node-gyp-build\\node-gyp-build.js:60:9)\n",
      "\u001b[1;31m    at load (C:\\Users\\johnc\\AppData\\Roaming\\npm\\node_modules\\ijavascript\\node_modules\\node-gyp-build\\node-gyp-build.js:22:30)\n",
      "\u001b[1;31m    at Object.<anonymous> (C:\\Users\\johnc\\AppData\\Roaming\\npm\\node_modules\\ijavascript\\node_modules\\zeromq\\binding.js:1:43)\n",
      "\u001b[1;31m    at Module._compile (node:internal/modules/cjs/loader:1376:14)\n",
      "\u001b[1;31m    at Module._extensions..js (node:internal/modules/cjs/loader:1435:10)\n",
      "\u001b[1;31m    at Module.load (node:internal/modules/cjs/loader:1207:32)\n",
      "\u001b[1;31m    at Module._load (node:internal/modules/cjs/loader:1023:12)\n",
      "\u001b[1;31m    at Module.require (node:internal/modules/cjs/loader:1235:19)\n",
      "\u001b[1;31m    at require (node:internal/modules/helpers:176:18)\n",
      "\u001b[1;31m    at Object.<anonymous> (C:\\Users\\johnc\\AppData\\Roaming\\npm\\node_modules\\ijavascript\\node_modules\\zeromq\\lib\\index.js:6:11)\n",
      "\u001b[1;31m\n",
      "\u001b[1;31mNode.js v20.11.1. \n",
      "\u001b[1;31mView Jupyter <a href='command:jupyter.viewOutput'>log</a> for further details."
     ]
    }
   ],
   "source": [
    "console.log(Math.floor(.05));\n",
    "// Expected output: 1"
   ]
  },
  {
   "cell_type": "code",
   "execution_count": null,
   "id": "6473212b",
   "metadata": {},
   "outputs": [
    {
     "ename": "",
     "evalue": "",
     "output_type": "error",
     "traceback": [
      "\u001b[1;31mFailed to start the Kernel. \n",
      "\u001b[1;31mC:\\Users\\johnc\\AppData\\Roaming\\npm\\node_modules\\ijavascript\\node_modules\\node-gyp-build\\node-gyp-build.js:60\n",
      "\u001b[1;31m  throw new Error('No native build was found for ' + target + '\\n    loaded from: ' + dir + '\\n')\n",
      "\u001b[1;31m  ^\n",
      "\u001b[1;31m\n",
      "\u001b[1;31mError: No native build was found for platform=win32 arch=x64 runtime=electron abi=115 uv=1 libc=glibc node=20.11.1\n",
      "\u001b[1;31m    loaded from: C:\\Users\\johnc\\AppData\\Roaming\\npm\\node_modules\\ijavascript\\node_modules\\zeromq\n",
      "\u001b[1;31m\n",
      "\u001b[1;31m    at load.resolve.load.path (C:\\Users\\johnc\\AppData\\Roaming\\npm\\node_modules\\ijavascript\\node_modules\\node-gyp-build\\node-gyp-build.js:60:9)\n",
      "\u001b[1;31m    at load (C:\\Users\\johnc\\AppData\\Roaming\\npm\\node_modules\\ijavascript\\node_modules\\node-gyp-build\\node-gyp-build.js:22:30)\n",
      "\u001b[1;31m    at Object.<anonymous> (C:\\Users\\johnc\\AppData\\Roaming\\npm\\node_modules\\ijavascript\\node_modules\\zeromq\\binding.js:1:43)\n",
      "\u001b[1;31m    at Module._compile (node:internal/modules/cjs/loader:1376:14)\n",
      "\u001b[1;31m    at Module._extensions..js (node:internal/modules/cjs/loader:1435:10)\n",
      "\u001b[1;31m    at Module.load (node:internal/modules/cjs/loader:1207:32)\n",
      "\u001b[1;31m    at Module._load (node:internal/modules/cjs/loader:1023:12)\n",
      "\u001b[1;31m    at Module.require (node:internal/modules/cjs/loader:1235:19)\n",
      "\u001b[1;31m    at require (node:internal/modules/helpers:176:18)\n",
      "\u001b[1;31m    at Object.<anonymous> (C:\\Users\\johnc\\AppData\\Roaming\\npm\\node_modules\\ijavascript\\node_modules\\zeromq\\lib\\index.js:6:11)\n",
      "\u001b[1;31m\n",
      "\u001b[1;31mNode.js v20.11.1. \n",
      "\u001b[1;31mView Jupyter <a href='command:jupyter.viewOutput'>log</a> for further details."
     ]
    }
   ],
   "source": []
  }
 ],
 "metadata": {
  "kernelspec": {
   "display_name": "JavaScript (Node.js)",
   "language": "javascript",
   "name": "javascript"
  },
  "language_info": {
   "file_extension": ".js",
   "mimetype": "application/javascript",
   "name": "javascript",
   "version": "20.11.1"
  }
 },
 "nbformat": 4,
 "nbformat_minor": 5
}
