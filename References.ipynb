{
 "cells": [
  {
   "cell_type": "markdown",
   "id": "1d0a9e14",
   "metadata": {},
   "source": [
    "# References\n",
    "* [Binary Search – Data Structure and Algorithm Tutorials - geeksforgeeks.org](https://www.geeksforgeeks.org/binary-search/)"
   ]
  },
  {
   "cell_type": "code",
   "execution_count": null,
   "id": "9d918d52",
   "metadata": {},
   "outputs": [],
   "source": []
  }
 ],
 "metadata": {
  "kernelspec": {
   "display_name": "JavaScript (Node.js)",
   "language": "javascript",
   "name": "javascript"
  },
  "language_info": {
   "file_extension": ".js",
   "mimetype": "application/javascript",
   "name": "javascript",
   "version": "18.18.2"
  }
 },
 "nbformat": 4,
 "nbformat_minor": 5
}
